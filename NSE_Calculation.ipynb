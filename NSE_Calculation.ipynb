{
  "nbformat": 4,
  "nbformat_minor": 0,
  "metadata": {
    "colab": {
      "provenance": [],
      "authorship_tag": "ABX9TyNQwBirb37x7o6vvpcL3i9V",
      "include_colab_link": true
    },
    "kernelspec": {
      "name": "python3",
      "display_name": "Python 3"
    },
    "language_info": {
      "name": "python"
    }
  },
  "cells": [
    {
      "cell_type": "markdown",
      "metadata": {
        "id": "view-in-github",
        "colab_type": "text"
      },
      "source": [
        "<a href=\"https://colab.research.google.com/github/Barbhuiya12/Hydrology-/blob/main/NSE_Calculation.ipynb\" target=\"_parent\"><img src=\"https://colab.research.google.com/assets/colab-badge.svg\" alt=\"Open In Colab\"/></a>"
      ]
    },
    {
      "cell_type": "markdown",
      "source": [
        "**Loading The Basic Library** "
      ],
      "metadata": {
        "id": "r04zdcGojBhr"
      }
    },
    {
      "cell_type": "code",
      "source": [
        "import numpy as np \n",
        "import pandas as pd "
      ],
      "metadata": {
        "id": "YujvujEGhe_x"
      },
      "execution_count": 1,
      "outputs": []
    },
    {
      "cell_type": "markdown",
      "source": [
        "**Loading the dataset** "
      ],
      "metadata": {
        "id": "LhI_4eXIjJCi"
      }
    },
    {
      "cell_type": "code",
      "source": [
        "df=pd.read_excel(\"QsimCal.xlsx\")\n",
        "df"
      ],
      "metadata": {
        "colab": {
          "base_uri": "https://localhost:8080/",
          "height": 424
        },
        "id": "z1fsxyrJhnTG",
        "outputId": "478c4674-339c-40c9-f65a-3fa9b4ed3e65"
      },
      "execution_count": 8,
      "outputs": [
        {
          "output_type": "execute_result",
          "data": {
            "text/plain": [
              "           Date      Qsim       Qmm  Unnamed: 3      Qobs\n",
              "0    1991-06-01  0.719731  0.000000   -0.719731  0.000000\n",
              "1    1991-06-02  0.715007  0.000000   -0.715007  0.000000\n",
              "2    1991-06-03  0.710485  0.000000   -0.710485  0.000000\n",
              "3    1991-06-04  0.706153  0.000000   -0.706153  0.000000\n",
              "4    1991-06-05  0.702002  0.000000   -0.702002  0.000000\n",
              "...         ...       ...       ...         ...       ...\n",
              "4592 2003-12-27  0.865766  0.126257   -0.739509  0.126257\n",
              "4593 2003-12-28  0.843082  0.123190   -0.719892  0.123190\n",
              "4594 2003-12-29  0.834208  0.113989   -0.720219  0.113989\n",
              "4595 2003-12-30  0.825659  0.111178   -0.714482  0.111178\n",
              "4596 2003-12-31  0.817616  0.000000   -0.817616  0.000000\n",
              "\n",
              "[4597 rows x 5 columns]"
            ],
            "text/html": [
              "\n",
              "  <div id=\"df-ed170eeb-b8e6-4f00-81a7-4851061f132a\">\n",
              "    <div class=\"colab-df-container\">\n",
              "      <div>\n",
              "<style scoped>\n",
              "    .dataframe tbody tr th:only-of-type {\n",
              "        vertical-align: middle;\n",
              "    }\n",
              "\n",
              "    .dataframe tbody tr th {\n",
              "        vertical-align: top;\n",
              "    }\n",
              "\n",
              "    .dataframe thead th {\n",
              "        text-align: right;\n",
              "    }\n",
              "</style>\n",
              "<table border=\"1\" class=\"dataframe\">\n",
              "  <thead>\n",
              "    <tr style=\"text-align: right;\">\n",
              "      <th></th>\n",
              "      <th>Date</th>\n",
              "      <th>Qsim</th>\n",
              "      <th>Qmm</th>\n",
              "      <th>Unnamed: 3</th>\n",
              "      <th>Qobs</th>\n",
              "    </tr>\n",
              "  </thead>\n",
              "  <tbody>\n",
              "    <tr>\n",
              "      <th>0</th>\n",
              "      <td>1991-06-01</td>\n",
              "      <td>0.719731</td>\n",
              "      <td>0.000000</td>\n",
              "      <td>-0.719731</td>\n",
              "      <td>0.000000</td>\n",
              "    </tr>\n",
              "    <tr>\n",
              "      <th>1</th>\n",
              "      <td>1991-06-02</td>\n",
              "      <td>0.715007</td>\n",
              "      <td>0.000000</td>\n",
              "      <td>-0.715007</td>\n",
              "      <td>0.000000</td>\n",
              "    </tr>\n",
              "    <tr>\n",
              "      <th>2</th>\n",
              "      <td>1991-06-03</td>\n",
              "      <td>0.710485</td>\n",
              "      <td>0.000000</td>\n",
              "      <td>-0.710485</td>\n",
              "      <td>0.000000</td>\n",
              "    </tr>\n",
              "    <tr>\n",
              "      <th>3</th>\n",
              "      <td>1991-06-04</td>\n",
              "      <td>0.706153</td>\n",
              "      <td>0.000000</td>\n",
              "      <td>-0.706153</td>\n",
              "      <td>0.000000</td>\n",
              "    </tr>\n",
              "    <tr>\n",
              "      <th>4</th>\n",
              "      <td>1991-06-05</td>\n",
              "      <td>0.702002</td>\n",
              "      <td>0.000000</td>\n",
              "      <td>-0.702002</td>\n",
              "      <td>0.000000</td>\n",
              "    </tr>\n",
              "    <tr>\n",
              "      <th>...</th>\n",
              "      <td>...</td>\n",
              "      <td>...</td>\n",
              "      <td>...</td>\n",
              "      <td>...</td>\n",
              "      <td>...</td>\n",
              "    </tr>\n",
              "    <tr>\n",
              "      <th>4592</th>\n",
              "      <td>2003-12-27</td>\n",
              "      <td>0.865766</td>\n",
              "      <td>0.126257</td>\n",
              "      <td>-0.739509</td>\n",
              "      <td>0.126257</td>\n",
              "    </tr>\n",
              "    <tr>\n",
              "      <th>4593</th>\n",
              "      <td>2003-12-28</td>\n",
              "      <td>0.843082</td>\n",
              "      <td>0.123190</td>\n",
              "      <td>-0.719892</td>\n",
              "      <td>0.123190</td>\n",
              "    </tr>\n",
              "    <tr>\n",
              "      <th>4594</th>\n",
              "      <td>2003-12-29</td>\n",
              "      <td>0.834208</td>\n",
              "      <td>0.113989</td>\n",
              "      <td>-0.720219</td>\n",
              "      <td>0.113989</td>\n",
              "    </tr>\n",
              "    <tr>\n",
              "      <th>4595</th>\n",
              "      <td>2003-12-30</td>\n",
              "      <td>0.825659</td>\n",
              "      <td>0.111178</td>\n",
              "      <td>-0.714482</td>\n",
              "      <td>0.111178</td>\n",
              "    </tr>\n",
              "    <tr>\n",
              "      <th>4596</th>\n",
              "      <td>2003-12-31</td>\n",
              "      <td>0.817616</td>\n",
              "      <td>0.000000</td>\n",
              "      <td>-0.817616</td>\n",
              "      <td>0.000000</td>\n",
              "    </tr>\n",
              "  </tbody>\n",
              "</table>\n",
              "<p>4597 rows × 5 columns</p>\n",
              "</div>\n",
              "      <button class=\"colab-df-convert\" onclick=\"convertToInteractive('df-ed170eeb-b8e6-4f00-81a7-4851061f132a')\"\n",
              "              title=\"Convert this dataframe to an interactive table.\"\n",
              "              style=\"display:none;\">\n",
              "        \n",
              "  <svg xmlns=\"http://www.w3.org/2000/svg\" height=\"24px\"viewBox=\"0 0 24 24\"\n",
              "       width=\"24px\">\n",
              "    <path d=\"M0 0h24v24H0V0z\" fill=\"none\"/>\n",
              "    <path d=\"M18.56 5.44l.94 2.06.94-2.06 2.06-.94-2.06-.94-.94-2.06-.94 2.06-2.06.94zm-11 1L8.5 8.5l.94-2.06 2.06-.94-2.06-.94L8.5 2.5l-.94 2.06-2.06.94zm10 10l.94 2.06.94-2.06 2.06-.94-2.06-.94-.94-2.06-.94 2.06-2.06.94z\"/><path d=\"M17.41 7.96l-1.37-1.37c-.4-.4-.92-.59-1.43-.59-.52 0-1.04.2-1.43.59L10.3 9.45l-7.72 7.72c-.78.78-.78 2.05 0 2.83L4 21.41c.39.39.9.59 1.41.59.51 0 1.02-.2 1.41-.59l7.78-7.78 2.81-2.81c.8-.78.8-2.07 0-2.86zM5.41 20L4 18.59l7.72-7.72 1.47 1.35L5.41 20z\"/>\n",
              "  </svg>\n",
              "      </button>\n",
              "      \n",
              "  <style>\n",
              "    .colab-df-container {\n",
              "      display:flex;\n",
              "      flex-wrap:wrap;\n",
              "      gap: 12px;\n",
              "    }\n",
              "\n",
              "    .colab-df-convert {\n",
              "      background-color: #E8F0FE;\n",
              "      border: none;\n",
              "      border-radius: 50%;\n",
              "      cursor: pointer;\n",
              "      display: none;\n",
              "      fill: #1967D2;\n",
              "      height: 32px;\n",
              "      padding: 0 0 0 0;\n",
              "      width: 32px;\n",
              "    }\n",
              "\n",
              "    .colab-df-convert:hover {\n",
              "      background-color: #E2EBFA;\n",
              "      box-shadow: 0px 1px 2px rgba(60, 64, 67, 0.3), 0px 1px 3px 1px rgba(60, 64, 67, 0.15);\n",
              "      fill: #174EA6;\n",
              "    }\n",
              "\n",
              "    [theme=dark] .colab-df-convert {\n",
              "      background-color: #3B4455;\n",
              "      fill: #D2E3FC;\n",
              "    }\n",
              "\n",
              "    [theme=dark] .colab-df-convert:hover {\n",
              "      background-color: #434B5C;\n",
              "      box-shadow: 0px 1px 3px 1px rgba(0, 0, 0, 0.15);\n",
              "      filter: drop-shadow(0px 1px 2px rgba(0, 0, 0, 0.3));\n",
              "      fill: #FFFFFF;\n",
              "    }\n",
              "  </style>\n",
              "\n",
              "      <script>\n",
              "        const buttonEl =\n",
              "          document.querySelector('#df-ed170eeb-b8e6-4f00-81a7-4851061f132a button.colab-df-convert');\n",
              "        buttonEl.style.display =\n",
              "          google.colab.kernel.accessAllowed ? 'block' : 'none';\n",
              "\n",
              "        async function convertToInteractive(key) {\n",
              "          const element = document.querySelector('#df-ed170eeb-b8e6-4f00-81a7-4851061f132a');\n",
              "          const dataTable =\n",
              "            await google.colab.kernel.invokeFunction('convertToInteractive',\n",
              "                                                     [key], {});\n",
              "          if (!dataTable) return;\n",
              "\n",
              "          const docLinkHtml = 'Like what you see? Visit the ' +\n",
              "            '<a target=\"_blank\" href=https://colab.research.google.com/notebooks/data_table.ipynb>data table notebook</a>'\n",
              "            + ' to learn more about interactive tables.';\n",
              "          element.innerHTML = '';\n",
              "          dataTable['output_type'] = 'display_data';\n",
              "          await google.colab.output.renderOutput(dataTable, element);\n",
              "          const docLink = document.createElement('div');\n",
              "          docLink.innerHTML = docLinkHtml;\n",
              "          element.appendChild(docLink);\n",
              "        }\n",
              "      </script>\n",
              "    </div>\n",
              "  </div>\n",
              "  "
            ]
          },
          "metadata": {},
          "execution_count": 8
        }
      ]
    },
    {
      "cell_type": "markdown",
      "source": [
        "**Calculating the NSE(Nash Sutcliffe model Efficiency coefficient)**\n",
        "\n",
        "\n",
        "*  The Nash–Sutcliffe model efficiency coefficient (NSE) is used to assess the predictive skill of hydrological models.The formula of NSE is given below :\n",
        "![image.png](data:image/png;base64,iVBORw0KGgoAAAANSUhEUgAAAP0AAABMCAYAAACmo7EsAAAPGklEQVR4nO2dzXIbxxGAPzipSlVy0CJVOQv0A9iAHiAC/QAh6YtvNqAHiEg/gAWecrNIP0BE5gVM+ZaTQFflmBKYa6oiKrecSOXnkEuQQ2/XzA5m/7D4Z39VWySwu8Bgd3u6p7unBwzDMAzD2F1+su4GGIbRmEPgC6AD3JQd3Fp6c4xN5BB4DvyYvn4KTIAPwKfALXC8nqYZNTkB3iL37AKYAvtrbZGxkVwASfp/H3lQ9HUXGK2jUcZc3OM66C5yL3tFJ/x02S0yNo4EeI88LCBa4cZ7rfuN7eAYsdLA3cNHa2qLsQRa3ha+LtuUBKfVAcbAecH+TWaEDFW2jSuWc41HuA7A2HI6iNk2RW7qNSKs197//vbeO34K3JHvv5myOsFJyA4t8mgBbcTXUOR3ukVM2k2hBewhbcprdxenkatyDgxLjuki935bOmyjAqeIgI4rHKtCM0Q6iSnxh0bH8+0FtbGIBHE4FQlpG9FWN0jncIYI9vdk29hFOqop0jGs+0HfA14h7T5H2j5B2u/TB14g16Ff4/Nb6efljdUTnMBvk6VmVGCMPOinNc+7REzKkFWagyOK270PvEPa6j+0+kC/9d7vIQI1Ts9b50N+gnRMJ8H7qtFfee/tI20+o76H/Un6eaEFkSDXVq/BgHodirHhtJEbP09YZowME8L3Qm20DPYotiiO0v2h4CjqlfY7jcuC41fFJdKuJzn7T5i9V7eUeNcLGDNrsakl52/GjqECckc9s7yD0wYj4GX6OW8Rk3OZ2vIU8T3E2EN+S9GwpYVrq7Lu8bzehzLrxT+mQ/3xvM8QsYbC7wg3Ywc5Rx6mmMm+iUzIFw4dsuwVnK9CP8U5y1R4Dpm1YJZNG+mobkuOU6HXDu8Ed8/mSX76mPJrVcpHTU421sZzxGl0wPpN3DJaSJZfTJP3EEfcDbMazEdN1r+nfx8hHUkH0fZlwrdohohl9Lri8do+bXef+TS+XiMbsz9Q1FFUmoG1ZnQ8HzM7zygeyyu99DhfyAbptg50HF2mcUdkIycJouHnFVr14td15Bo7xBA31t3UMI2auDGhHxfs81GHWFOrZp5kpthn+EONIrRzWFSn3EKuWSOhtzTc7eYVMqb9Dc6zv6kUta1oXwsZznxA4t9NGFF9ktnviQ8bdKjxnmJP+R4yrLkm64BswjT4Oxcm9NvPPXGv7rLppFtZspCf019nn3IMPAY+Q5xnIZqMUmVc/6LCMWW0kA7oEU7rx3iZHndU8FkJ2Q4vfB377sYzY03ot5uvkYdkHg3YTc+rG/YapOcMcAkyRRQl/7xGnJEq9KeIdgSxYJ4A3wDfAW+Cc5P0+28QAeywmjG++ha+xE1sGeHSYEfIMOQA+JxsR3WctvMR0iHcpm0eIeP8JN1X1FHkOUWNB8ARzczd44bn6wNeRgsxhfPG4xPEStn3Pm+IaOU7spOBwvN8h9iU1cXtNWR4hfwubccFcl3viQvuCBHyW1xH5ydI6RyLPD7C5ss/WHrUn1yhyTkdXP73G8oncuRRVehBMtcuc/Yl6b77tD2j9O+E7MPt/1YVHJ9VCj04zX6H+FZGSOd1hfPqx+7PJVlHnB8FGFKce/EZC5grYeb99tFGJqD0qOe4O0O00h3iXBoh5qf6AkKPcKhxJsyfDHRBNgfd5x74CvldKrQTxLxXk/44/W79vaEv4RCxJlY5rVQtjT2yyUG3uGs6YjYJ5ynuWvSRduvxB7h06ZiP4gAZWsR8GxuHleVaDDr5pG4I6JysQPRontBSN3Skk2OqoLP/XiEWSTiGHeCGJnpNNiFhZYTT/O+YvT5hGu4pWQtomh4TG3ZpFmBj0z7U9IdIz6S9/A+IF1JJEC0D4kD5FGl02Eh1smgCSRuXiNEOPnOIeGfLeE++tlgmeqM2IRx2hghwlRBQCxGEb9K/X3v7+sRz4Ys656YTOU6RYUXokIuhxR0HiMMrFOgL5L6M0v3riF7EuEGe/UH6fxgtULlQ7shej/P03FiK7gDR8lWuXyGxaXo6bfETRBtovq+yj/sxp8gDGIYd3iBFF597748R0+YJ2YdWUzFfIhfKd/hoz3fGrONmmXTT7z3EeWEbX+yGnCMeYy1gOSEbMnqEy1xrIdfU52OcYFyl2wVOa5Zp7XdkO3ct4lEnDDbE+RTK6CH3+xWb0eFW5QiRgUUqqCdI3sC86bsZQk1/jzOl/oA8ZAOyP+ANIswq8CFnyEP5PPJ+N3KOX1ghrydLWE2hB2WAXItNKUig8dvvvPdawd9/ktXe/v/3zGpC1TqqeaoKbx/pUB4Dv07Pq2rmv8IJRdnD+5bFJbWsku/LD6nNJyxI4PPoISa7ao1QCFuIBRAzBVXzxB6CPvmOIJ2XHHprVeD2cz5z2Wi1ml0LkSS4uHBdOum5feS6bMJY2mjICS6Mo7nRfiikR/7sIi12ENPWHeLCo51ImMt8gXNYDVjPpJJdFXrDyPCabNxwStbDeELxxAed+XWHGzMWaRSdhaXDihYiZHnWxCoxoTceBH5ox9fCOqZ+TbHW1fhxWI01L3FiGByrW52Y8BWzFWH97TrYqpqkJvTGzhE68npk18KaItr6BRJGGCFhuqIkCJ3muY/zfj8mv0a5CmDP+9wz6i24cEjcKsib/risOmJ1LJOydMtNKu1sbD//Av4Ks0LfZzYR4hwR+i8RLX9D/IEN49lv0k1zqGMmvoaWPpDtbPwoglYoCUNQIXlCtKpCgV3y88RD7iiuNf9z4I+NW2QYjj+RPnMxoQ8TA+5w4btvyc+hPkHCFWGncU922SSfDmIFvCYrnH5O9wnlE0N61PNEh7kFi2BCecdUlX8Dv1rQZxlGBl/oW4gAxjKbLhChf0r+BI2nxMfhCTIkiJVaVtP+x8g+ECffV5SXJaq7QssdtvyP8cBpIcL8lvxx6YR8j3ob0dSxxAR1ssW4IltOyP/s/bQ966wHZo48Yyc5RDSf7zmPOZGG5JvZR7iFECfIOF6nGp4xa3rrxAT/O9+kn/EueL9Rud85OUvb47fjLfNPQzWMjSHU2vq6rvOrjwj7PTJO1/pgr8mfCBF+d+hp19frXLFDv3/d7TCMMhJkKJwgPrRtWRPBMIw5OcPVLbzFymQbxk6jZba0RqA/Pd4wjB3lmOzKtSb0xsYxZDUr5m4rWhJsnpmQq1qN2DAqU1YA0hCeIQ7yOoLvlxIzjI1AF5zchOIkm04LyYCtWoXnECfwuSv5rnvqqrF6dG25GP6yyssgQfIdnrH+8mOLIBZiDomFouvwEfA3XJp7Hl0kVK4JbzqtfQYrgf2w0MKnZ7jFGi7Sv1pocplrvZ8gsyd3QeB/B/zSe/0f4BeR4/4L/Mx7/Q+kWGlV/oeE377FCXRIB7mmvvW0zM7b2CL87EgN83SD/csiQbIwi5ZsMuJoXYu82LtOZfc3m5ptAFlzb8jsTMNY6eVFcRr5vkWhK/fsMudIdmvjIbmN6TefE+ShnjfuqqZ8yCVSNrvuDMV5aCEP7DWSKrpoLhBNWHWZrW3kCfBnpBx7o4q7NqbffDrAb5HQjS5YkTdHIkHMugPc6q8fyC4uojyletGPpnSRadt1wnRt5Ddoye0bpKOKlcXus5rOqyr7SJs/RXwYY5qHKN8i9/KQ5ZTZNjaINq5aUZ1Zfl2ko4gJiY7nV1VhWKcoV127YB+3LJQWSNG1CHxt3sdZMqesvxx3D7neV15bDhEr5IJmYUoN391hFvqDQIuNFhUYjZEggh9OT46N55fJGNF4VR5WXcE2VsNAw41+5zdgMxJ99JrGOmat+Nx0Eox2nuuYbm6sgRPkhk+ot9rPPrPx2itWu3qMX/OwiHPKi5b4q8KCWxN+nWhF56LS8Nc0X2328/R7LALygNA47bxj8QFiHvvbsk3iolWPfFSLl/02XYBFrYZbXCexjiy/PUSYyzq1Kh1aGbrqlE2bfUC0cesQbEtvr8Jc9qDq7yozXa+949Q3AaLt1xG206KuZfdDO+wmQq8d6KocsMaGoEJ0x3aM7aoIvR5Tpi31ob/HafoJYrFEU06XjNaG9NuTh1ooTRZi1d9fZahk7Bjq0NmGdFYV6KLxrv6eMmtAzdu8tRRXjf62MkeiCmtVZ2bZ5zQSeovTbycvkDiwrlOwDXOni0qOdyocA06bN9V0dcbEWrA1hvpDbnL2K9puLbY6LwspjGFCv70MECHZFlOvSMM9Sv8WhRHbyNoL18STjepwRXWnX1FHVFUIR0hiTZG1UwWLzz9wxszvFCpbSThGglgXL6gXF1cTuMjRFYa8NBnHz7LT+H3Mj7GHCNYxq03Q0eGG71g7IptqrKHWRaydYGP6B8wl89fgnzePv4MI1QX1Hro+5eP1BBFo9VGMcQUhurjEl5iz7hBXVipBogCr9OJPkLyBNiL8A+Q6DagWv6+DCf0D5RnNQjZHNFvSa0S9h65qyG4fEexXiI+ilb6nS5DFUoZ1uq6fpagdxqrYw7V77L33DumAiiycLmI1jdK/ZREIjRZYnP4BcUR9z3UHN1FnjDygt2QFt1WwhdQVetVOeQuf+uwhHdoYN0nF76ASsgI9QH6LzyrnFChtRJtru18j19kfQoUdkXZYapV0Kc/YqxIJKcUcedtDDzEbD2qckyAzslTodSWiE5wpPaTYHL6nmeNsini3H1c49h3w3HvdR9rfRTqPb8g+8FpcQhkgjr5VphiDCOtLstdpirT/Bmn3D8E5I6St2n4dnhRRNcph7ABt6ufctxGT0190tMm8fKWupof5Z4epOatbOKxJ0rYcIM6zOl75ZaKdkbY7JqRjsjMGzyh3kGo+QyMvvmn6zUe19TPimV+akqqaVOeuq4f+O5yg7+Niyrr8UZmmn9K8OMUbJNzWpZ4WvkME/TnyO14E++8Rs7kL/IVqQ4hVoB3UC0TgYz4GXfsR5PofUhx5aOEsB1vIYse5IKvt6m7++HaEq5M3ryDPo+lVY9uqv44EuRf+PSlCr+HXJccZO0KRo61s8+niHrR5zGAV+DHSGdUJjV2xGfPet5UjROh3vRagsUOo57nJhJOHzBUWnze2kGssxjwPH7O4rD7DWCmagGPavh66IIlhbCXn2AKLdfgM6yiNLSdBwk7bUvln3Uwws97YATSpxpZeKuYCC3MaO0SCafsiOtj1MQzDMAyjNv8Hxr3zDlYxSfsAAAAASUVORK5CYII=)\n",
        "*   where ![image.png](data:image/png;base64,iVBORw0KGgoAAAANSUhEUgAAABgAAAAcCAYAAAB75n/uAAABfUlEQVRIie3UPXITQRAF4G+BIqSkIiGi5BNg3UA+AesToBtgqjgAvoGJSOWUxPgEtm+wnADBBRCO+AlMML1IXkkzi01ClV/SuzOvu1/39Ax3KKDC487aTzzs4fsLlyXSA7zurF3iUY8EX/CuB+8OeVSZvSGeYxfPMMcpPvyLxPv4hEOMYm2CBjMMbhN8hgXGG/Z2cBWJb4S3EWAvw2nw9SbB9yL4cYF3HrxNFWYxD8edAu9Cuco1jMOpKfAqfA5ubgL/4F7YOuxpgT/CU8sqeidosSjwp2Ev+gRfxZtQtJ/hDKXpKbXxGtoKPobdDTuIpC87IqqCiCwaaZIqaRTrCDrFK6l9063eS4GjbZvjSHCGk0g0ltpyLj/3tfRG1dJLsFXIMNQeSwd5GMFbDHCwQfXC8n2a+MubfoUX4XhivQUzHK3811InsD6mXVT4FkHOgj/vcEauVzmx8qTfL8nHDzzBe6mSLtoWNfF9IJ3B91bhbdGeS3tJjzLc/xC/AbX0TyImxPwxAAAAAElFTkSuQmCC) is the mean of observed discharges, and ![image.png](data:image/png;base64,iVBORw0KGgoAAAANSUhEUgAAABwAAAAUCAYAAACeXl35AAABb0lEQVRIidWUrVbDQBCFvxaDTBy49A0ShyN1SHiD8AatQpI6JLhK6nAUh2veAHiCphJXHC6ImSWbnyalDZzDPWfPbDK7e2dnZi/8MQ5a/AMgBE6AD2D9W4RDYKGE74ADTAEfSIDPfYkNHOARSIGgxpcqYWeYI2lzN/jHQIZkYG9M9LCLhjVDXTPZl8zTg15b1hnC+a5EfbVjtbMtAgN425XQIEUi31Q7g1s6qGFPD8l03kVgrdimfpd01DA98sjtG4bW3AGWVN+gA5yqNXNTZ9/yfcMojavOJ+AQuFd7DjwjKhMAZxTl7QY4Bq7UrjSoIw3eA0bAQ/mWLtJ5L0in+vp/hihPgshcGREQU3wmKXl2QhqUyUHqs1LihW6OrTVhzb6EXCwGFDNwp6MRdh1ji9BDnkUZGXmdIqq3DexA+1SRlcivkYZZUlWYECnF2vo2KfQ0kIz6zNTCSFlGfWo8pLEMIopdOdLxI7jUN8z/wBfaoFNZO6se7AAAAABJRU5ErkJggg==)is modeled discharge. ![image.png](data:image/png;base64,iVBORw0KGgoAAAANSUhEUgAAABcAAAAXCAYAAADgKtSgAAABaUlEQVRIieWT0VHCUBBFTxwLIBUAFRgqMFCAoxUIHaANGDqACoQOoAJDBWAFpgPtIH7svmENmzx+9Mc7k9lM9u7dfXfz4L8jA3q/JV574tcdBQMgR6bqAztgC3w1eGPg3fnuogcUQAXMgKE22gKfwMhwC6AEjsAiJpwCBxVKnfxOG9hcCTxcMvFBJ/aEUZEaeDbfXL/hp+cbxN+JTuch+HqjsdPvK0O6A/bAW4uwRV/jLeI3iP+u+FTjJiIajr/XeESWvUT2dIYEOVZNu9cBS+VFF2jFa32SCLdS3vBScbTgI8KZKS/6P1skiHd28gGyrOBxqs3LFo0MeAEeveRCxcfIDSyBOaclrZG9DJzapeZ7WrP2GpQ63VonAVghF2uPv+x7ZA8BuQ7p4kmbVCZOTT5v8Lc6ecC00awThSkecn7kEpneNrt44WEX4Wn+33Pg1by7frdhxOmCrVo4OXLCrCXfiZT4zf17fAPy51bLEgBmhwAAAABJRU5ErkJggg==)is observed discharge at time t.\n",
        "\n"
      ],
      "metadata": {
        "id": "--b40_wRjcfG"
      }
    },
    {
      "cell_type": "code",
      "execution_count": 34,
      "metadata": {
        "id": "iXxOkqvnaPnH"
      },
      "outputs": [],
      "source": [
        "def nse(targets,predictions):\n",
        "    return 1-(np.sum((targets-predictions)**2)/np.sum((targets-np.mean(predictions))**2))"
      ]
    },
    {
      "cell_type": "markdown",
      "source": [
        "**Applying on The above dataset** "
      ],
      "metadata": {
        "id": "IWVYyZkclgqO"
      }
    },
    {
      "cell_type": "code",
      "source": [
        "targets=df[\"Qobs\"]\n",
        "predictions=df[\"Qsim\"]\n",
        "\n",
        "####Printing the Result ###\n",
        "print(\"The Value of  NSE: \",nse(targets,predictions))"
      ],
      "metadata": {
        "colab": {
          "base_uri": "https://localhost:8080/"
        },
        "id": "_J7ZCHd5jADv",
        "outputId": "4aa3c04a-1e9c-4ec5-e62b-7464ea1d85cf"
      },
      "execution_count": 35,
      "outputs": [
        {
          "output_type": "stream",
          "name": "stdout",
          "text": [
            "The Value of  NSE:  0.2545277834477939\n"
          ]
        }
      ]
    }
  ]
}