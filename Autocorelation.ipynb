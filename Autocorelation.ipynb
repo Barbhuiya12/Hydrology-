{
  "nbformat": 4,
  "nbformat_minor": 0,
  "metadata": {
    "colab": {
      "provenance": [],
      "authorship_tag": "ABX9TyOocXsJkIZwwfztVwXisV6f",
      "include_colab_link": true
    },
    "kernelspec": {
      "name": "python3",
      "display_name": "Python 3"
    },
    "language_info": {
      "name": "python"
    }
  },
  "cells": [
    {
      "cell_type": "markdown",
      "metadata": {
        "id": "view-in-github",
        "colab_type": "text"
      },
      "source": [
        "<a href=\"https://colab.research.google.com/github/Barbhuiya12/Hydrology-/blob/main/Autocorelation.ipynb\" target=\"_parent\"><img src=\"https://colab.research.google.com/assets/colab-badge.svg\" alt=\"Open In Colab\"/></a>"
      ]
    },
    {
      "cell_type": "markdown",
      "source": [
        "# **Autocorrelation** \n",
        "Correlation generally determines the relationship between two variables. Correlation is calculated between the variable and itself at previous time steps, such a correlation is called Autocorrelation."
      ],
      "metadata": {
        "id": "7R-6q46uxNG6"
      }
    },
    {
      "cell_type": "code",
      "execution_count": 30,
      "metadata": {
        "id": "F7CMeOVqRYB4"
      },
      "outputs": [],
      "source": [
        "# import modules\n",
        "import pandas as pd\n",
        "from statsmodels.graphics.tsaplots import plot_acf"
      ]
    },
    {
      "cell_type": "markdown",
      "source": [
        "**Method 1 : Using lagplot()**"
      ],
      "metadata": {
        "id": "yPXe2V4OzyNh"
      }
    },
    {
      "cell_type": "code",
      "source": [
        "# read the data from the csv\n",
        "data = pd.read_csv(\"AutoC_1.csv\",\n",
        "                   header=0, index_col=0, parse_dates=True,\n",
        "                   squeeze=True)\n",
        " \n",
        "# display top 15 data\n",
        "data.head(15)\n",
        " \n",
        "# lagplot\n",
        "pd.plotting.lag_plot(data, lag=5)"
      ],
      "metadata": {
        "colab": {
          "base_uri": "https://localhost:8080/",
          "height": 296
        },
        "id": "N1u1Knu4zw6n",
        "outputId": "729d33c2-f74b-4e88-b15b-a033346e3513"
      },
      "execution_count": 31,
      "outputs": [
        {
          "output_type": "execute_result",
          "data": {
            "text/plain": [
              "<matplotlib.axes._subplots.AxesSubplot at 0x7f05a6de0b10>"
            ]
          },
          "metadata": {},
          "execution_count": 31
        },
        {
          "output_type": "display_data",
          "data": {
            "text/plain": [
              "<Figure size 432x288 with 1 Axes>"
            ],
            "image/png": "[encoded data removed]"
          },
          "metadata": {
            "needs_background": "light"
          }
        }
      ]
    },
    {
      "cell_type": "markdown",
      "source": [
        "**Method 2: Creating lagged variables at different time steps**"
      ],
      "metadata": {
        "id": "cEKjriXC0Ei2"
      }
    },
    {
      "cell_type": "code",
      "source": [
        "data = pd.read_csv(\"AutoC_1.csv\",\n",
        "                   header=0, index_col=0, parse_dates=True,\n",
        "                   squeeze=True)\n",
        " \n",
        "# extracting only the temperature values\n",
        "values = pd.DataFrame(data.values)\n",
        " \n",
        "# using shift function to shift the values.\n",
        "dataframe = pd.concat([values.shift(4),values.shift(3), values.shift(2),\n",
        "                       values.shift(1), values], axis=1)\n",
        "# naming the columns\n",
        "dataframe.columns = ['t', 't+1', 't+2', 't+3','t+4']\n",
        " \n",
        "# using corr() function to compute the correlation\n",
        "result = dataframe.corr()\n",
        "print(result)\n"
      ],
      "metadata": {
        "colab": {
          "base_uri": "https://localhost:8080/",
          "height": 0
        },
        "id": "7CP_NU7Ox8tR",
        "outputId": "d68886ff-7d01-4ddf-cd3f-d8511682e763"
      },
      "execution_count": 32,
      "outputs": [
        {
          "output_type": "stream",
          "name": "stdout",
          "text": [
            "            t       t+1       t+2       t+3       t+4\n",
            "t    1.000000  0.608912  0.387730  0.315206  0.284842\n",
            "t+1  0.608912  1.000000  0.608917  0.387737  0.315214\n",
            "t+2  0.387730  0.608917  1.000000  0.608921  0.387744\n",
            "t+3  0.315206  0.387737  0.608921  1.000000  0.608926\n",
            "t+4  0.284842  0.315214  0.387744  0.608926  1.000000\n"
          ]
        }
      ]
    },
    {
      "cell_type": "markdown",
      "source": [
        "The way to interpret the output is as follows:\n",
        "\n",
        "\n",
        "\n",
        "1. The autocorrelation at lag 0 is 1.\n",
        "2. The autocorrelation at lag 1 is 0.0.60.\n",
        "3. The autocorrelation at lag 2 is 0.3877.\n",
        "4. The autocorrelation at lag 3 is 0.314.\n",
        "\n",
        "\n",
        "\n"
      ],
      "metadata": {
        "id": "LzouekeZI-KI"
      }
    },
    {
      "cell_type": "markdown",
      "source": [
        "**Method 3: Using plot_acf()**"
      ],
      "metadata": {
        "id": "oCpowZyo0V90"
      }
    },
    {
      "cell_type": "markdown",
      "source": [
        "Plot in between ACF vs Days "
      ],
      "metadata": {
        "id": "enQEaTAc4k6n"
      }
    },
    {
      "cell_type": "code",
      "source": [
        "# read the csv data\n",
        "data = pd.read_csv(\"AutoC_1.csv\",\n",
        "                   header=0, index_col=0, parse_dates=True,\n",
        "                   squeeze=True)\n",
        " \n",
        "# plot the auto correlation\n",
        "plot_acf(data)\n"
      ],
      "metadata": {
        "colab": {
          "base_uri": "https://localhost:8080/",
          "height": 545
        },
        "id": "ZuWezfsXzT8X",
        "outputId": "92c04374-a76e-4b22-bf1d-275edead855d"
      },
      "execution_count": 33,
      "outputs": [
        {
          "output_type": "execute_result",
          "data": {
            "text/plain": [
              "<Figure size 432x288 with 1 Axes>"
            ],
            "image/png": "[encoded data removed]"
          },
          "metadata": {},
          "execution_count": 33
        },
        {
          "output_type": "display_data",
          "data": {
            "text/plain": [
              "<Figure size 432x288 with 1 Axes>"
            ],
            "image/png": "[encoded data removed]"
          },
          "metadata": {
            "needs_background": "light"
          }
        }
      ]
    }
  ]
}