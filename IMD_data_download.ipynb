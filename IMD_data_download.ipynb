{
  "cells": [
    {
      "cell_type": "markdown",
      "metadata": {
        "id": "view-in-github",
        "colab_type": "text"
      },
      "source": [
        "<a href=\"https://colab.research.google.com/github/Barbhuiya12/Hydrology-/blob/main/IMD_data_download.ipynb\" target=\"_parent\"><img src=\"https://colab.research.google.com/assets/colab-badge.svg\" alt=\"Open In Colab\"/></a>"
      ]
    },
    {
      "cell_type": "markdown",
      "source": [
        "**Installing The IMDLIB**\n",
        "---"
      ],
      "metadata": {
        "id": "_fG0NksnPBkZ"
      }
    },
    {
      "cell_type": "markdown",
      "source": [
        "IMDLIB is a python package to download and handle binary gridded data from the India Meteorological Department (IMD). For more information about the IMD datasets, the link of IMD Pune may be referred. It heavily employs the xarray for processing the datasets."
      ],
      "metadata": {
        "id": "FnCIxhaCPRQY"
      }
    },
    {
      "cell_type": "code",
      "execution_count": 4,
      "metadata": {
        "colab": {
          "base_uri": "https://localhost:8080/"
        },
        "id": "PwVstHSgO_j2",
        "outputId": "5eab7e12-101f-4ba8-dcc7-299fdc1b8594"
      },
      "outputs": [
        {
          "output_type": "stream",
          "name": "stdout",
          "text": [
            "Looking in indexes: https://pypi.org/simple, https://us-python.pkg.dev/colab-wheels/public/simple/\n",
            "Collecting imdlib\n",
            "  Downloading imdlib-0.1.14-py3-none-any.whl (8.9 kB)\n",
            "Requirement already satisfied: python-dateutil in /usr/local/lib/python3.7/dist-packages (from imdlib) (2.8.2)\n",
            "Requirement already satisfied: six in /usr/local/lib/python3.7/dist-packages (from imdlib) (1.15.0)\n",
            "Requirement already satisfied: urllib3 in /usr/local/lib/python3.7/dist-packages (from imdlib) (1.24.3)\n",
            "Requirement already satisfied: xarray in /usr/local/lib/python3.7/dist-packages (from imdlib) (0.20.2)\n",
            "Requirement already satisfied: scipy in /usr/local/lib/python3.7/dist-packages (from imdlib) (1.7.3)\n",
            "Requirement already satisfied: matplotlib in /usr/local/lib/python3.7/dist-packages (from imdlib) (3.2.2)\n",
            "Requirement already satisfied: pandas in /usr/local/lib/python3.7/dist-packages (from imdlib) (1.3.5)\n",
            "Requirement already satisfied: requests in /usr/local/lib/python3.7/dist-packages (from imdlib) (2.23.0)\n",
            "Requirement already satisfied: pytz in /usr/local/lib/python3.7/dist-packages (from imdlib) (2022.4)\n",
            "Requirement already satisfied: numpy in /usr/local/lib/python3.7/dist-packages (from imdlib) (1.21.6)\n",
            "Requirement already satisfied: cycler>=0.10 in /usr/local/lib/python3.7/dist-packages (from matplotlib->imdlib) (0.11.0)\n",
            "Requirement already satisfied: pyparsing!=2.0.4,!=2.1.2,!=2.1.6,>=2.0.1 in /usr/local/lib/python3.7/dist-packages (from matplotlib->imdlib) (3.0.9)\n",
            "Requirement already satisfied: kiwisolver>=1.0.1 in /usr/local/lib/python3.7/dist-packages (from matplotlib->imdlib) (1.4.4)\n",
            "Requirement already satisfied: typing-extensions in /usr/local/lib/python3.7/dist-packages (from kiwisolver>=1.0.1->matplotlib->imdlib) (4.1.1)\n",
            "Requirement already satisfied: certifi>=2017.4.17 in /usr/local/lib/python3.7/dist-packages (from requests->imdlib) (2022.9.24)\n",
            "Requirement already satisfied: idna<3,>=2.5 in /usr/local/lib/python3.7/dist-packages (from requests->imdlib) (2.10)\n",
            "Requirement already satisfied: chardet<4,>=3.0.2 in /usr/local/lib/python3.7/dist-packages (from requests->imdlib) (3.0.4)\n",
            "Requirement already satisfied: importlib-metadata in /usr/local/lib/python3.7/dist-packages (from xarray->imdlib) (5.0.0)\n",
            "Requirement already satisfied: zipp>=0.5 in /usr/local/lib/python3.7/dist-packages (from importlib-metadata->xarray->imdlib) (3.9.0)\n",
            "Installing collected packages: imdlib\n",
            "Successfully installed imdlib-0.1.14\n"
          ]
        }
      ],
      "source": [
        "pip install imdlib"
      ]
    },
    {
      "cell_type": "markdown",
      "source": [
        "**Importing the library and downloading the data** "
      ],
      "metadata": {
        "id": "RdzrK4fTPc6p"
      }
    },
    {
      "cell_type": "code",
      "execution_count": 5,
      "metadata": {
        "colab": {
          "base_uri": "https://localhost:8080/"
        },
        "id": "0dzO0u-6O_j4",
        "outputId": "2dfa0cf0-1bb9-4fd6-c3ae-6c06e4931783"
      },
      "outputs": [
        {
          "output_type": "stream",
          "name": "stdout",
          "text": [
            "Downloading: rain for year 2010\n",
            "Downloading: rain for year 2011\n",
            "Downloading: rain for year 2012\n",
            "Downloading: rain for year 2013\n",
            "Downloading: rain for year 2014\n",
            "Downloading: rain for year 2015\n",
            "Downloading: rain for year 2016\n",
            "Downloading: rain for year 2017\n",
            "Downloading: rain for year 2018\n",
            "Downloading: rain for year 2019\n",
            "Downloading: rain for year 2020\n",
            "Download Successful !!!\n"
          ]
        },
        {
          "output_type": "execute_result",
          "data": {
            "text/plain": [
              "<imdlib.core.IMD at 0x7f69514e3350>"
            ]
          },
          "metadata": {},
          "execution_count": 5
        }
      ],
      "source": [
        "import imdlib as imd\n",
        "start_yr = 2010\n",
        "end_yr =2020\n",
        "variable = 'rain' # other options are ('tmin'/ 'tmax')\n",
        "file_dir = (r\"D:\\Metrological data\\Rainfall data\\Kolar dam\") #Path to save the files\n",
        "\n",
        "data=imd.get_data(variable, start_yr, end_yr, fn_format='yearwise', file_dir=file_dir)\n",
        "data"
      ]
    },
    {
      "cell_type": "code",
      "execution_count": 6,
      "metadata": {
        "colab": {
          "base_uri": "https://localhost:8080/"
        },
        "id": "jsFdc23sO_j5",
        "outputId": "3bc8a96d-f5a8-43c4-b33c-9faf93d16be6"
      },
      "outputs": [
        {
          "output_type": "stream",
          "name": "stdout",
          "text": [
            "<xarray.Dataset>\n",
            "Dimensions:  (time: 4018, lat: 129, lon: 135)\n",
            "Coordinates:\n",
            "  * lat      (lat) float64 6.5 6.75 7.0 7.25 7.5 ... 37.5 37.75 38.0 38.25 38.5\n",
            "  * lon      (lon) float64 66.5 66.75 67.0 67.25 67.5 ... 99.25 99.5 99.75 100.0\n",
            "  * time     (time) datetime64[ns] 2010-01-01 2010-01-02 ... 2020-12-31\n",
            "Data variables:\n",
            "    rain     (time, lat, lon) float64 -999.0 -999.0 -999.0 ... -999.0 -999.0\n",
            "Attributes:\n",
            "    Conventions:  CF-1.7\n",
            "    title:        IMD gridded data\n",
            "    source:       https://imdpune.gov.in/\n",
            "    history:      2022-10-14 11:33:43.391981 Python\n",
            "    references:   \n",
            "    comment:      \n",
            "    crs:          epsg:4326\n"
          ]
        }
      ],
      "source": [
        "ds = data.get_xarray()\n",
        "print(ds)"
      ]
    },
    {
      "cell_type": "markdown",
      "source": [
        "**Converting The available data in CSV(Comma Separated Value) format**"
      ],
      "metadata": {
        "id": "VYIuNXO7PnM2"
      }
    },
    {
      "cell_type": "code",
      "execution_count": 7,
      "metadata": {
        "id": "dg0FjNjEO_j5"
      },
      "outputs": [],
      "source": [
        "lat = 24\n",
        "lon = 79.25\n",
        "x=data.to_csv('Sonar 24 79.25.csv', lat, lon, file_dir)"
      ]
    },
    {
      "cell_type": "markdown",
      "source": [
        "**Plotting the Rainfall map**"
      ],
      "metadata": {
        "id": "IjAod8pUSBoq"
      }
    },
    {
      "cell_type": "code",
      "source": [
        "ds = ds.where(ds['rain'] != -999.) #Remove NaN values\n",
        "ds['rain'].mean('time').plot()"
      ],
      "metadata": {
        "colab": {
          "base_uri": "https://localhost:8080/",
          "height": 297
        },
        "id": "XuFBbxG2SEx6",
        "outputId": "5b5cf5b6-8aa0-4a05-af14-4ed1e9a53c6f"
      },
      "execution_count": 11,
      "outputs": [
        {
          "output_type": "execute_result",
          "data": {
            "text/plain": [
              "<matplotlib.collections.QuadMesh at 0x7f694ee86ad0>"
            ]
          },
          "metadata": {},
          "execution_count": 11
        },
        {
          "output_type": "display_data",
          "data": {
            "text/plain": [
              "<Figure size 432x288 with 2 Axes>"
            ],
            "image/png": "[encoded data removed]"
          },
          "metadata": {
            "needs_background": "light"
          }
        }
      ]
    }
  ],
  "metadata": {
    "kernelspec": {
      "display_name": "Python 3.8.8 ('base')",
      "language": "python",
      "name": "python3"
    },
    "language_info": {
      "codemirror_mode": {
        "name": "ipython",
        "version": 3
      },
      "file_extension": ".py",
      "mimetype": "text/x-python",
      "name": "python",
      "nbconvert_exporter": "python",
      "pygments_lexer": "ipython3",
      "version": "3.8.8"
    },
    "orig_nbformat": 4,
    "vscode": {
      "interpreter": {
        "hash": "2aba9860a088cc6c3d1ae209629535f06c04d9a1a347499345996eb43b45336c"
      }
    },
    "colab": {
      "provenance": [],
      "include_colab_link": true
    }
  },
  "nbformat": 4,
  "nbformat_minor": 0
}