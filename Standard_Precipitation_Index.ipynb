{
  "nbformat": 4,
  "nbformat_minor": 0,
  "metadata": {
    "colab": {
      "provenance": [],
      "authorship_tag": "ABX9TyPCYepPtKmgflLDIxWEihl8",
      "include_colab_link": true
    },
    "kernelspec": {
      "name": "python3",
      "display_name": "Python 3"
    },
    "language_info": {
      "name": "python"
    }
  },
  "cells": [
    {
      "cell_type": "markdown",
      "metadata": {
        "id": "view-in-github",
        "colab_type": "text"
      },
      "source": [
        "<a href=\"https://colab.research.google.com/github/Barbhuiya12/Hydrology-/blob/main/Standard_Precipitation_Index.ipynb\" target=\"_parent\"><img src=\"https://colab.research.google.com/assets/colab-badge.svg\" alt=\"Open In Colab\"/></a>"
      ]
    },
    {
      "cell_type": "markdown",
      "source": [
        "Import Packages"
      ],
      "metadata": {
        "id": "OvZ9QjNxF50I"
      }
    },
    {
      "cell_type": "code",
      "execution_count": null,
      "metadata": {
        "id": "LWfwxDffFxYU"
      },
      "outputs": [],
      "source": [
        "import pandas as pd\n",
        "import numpy as np\n",
        "from scipy import stats as st\n",
        "import matplotlib.pyplot as plt\n",
        "import matplotlib.dates as mdates"
      ]
    },
    {
      "cell_type": "markdown",
      "source": [
        "Load Data"
      ],
      "metadata": {
        "id": "4zA5DeUgF9qT"
      }
    },
    {
      "cell_type": "code",
      "source": [
        "data = pd.read_csv('Basin.csv', usecols=[2])\n",
        "data.head(5)"
      ],
      "metadata": {
        "id": "DiR4jf11Glp9"
      },
      "execution_count": null,
      "outputs": []
    },
    {
      "cell_type": "markdown",
      "source": [
        "SPI Function (self-defined)"
      ],
      "metadata": {
        "id": "qjmx1ynhGD_4"
      }
    },
    {
      "cell_type": "code",
      "source": [
        "#Standardized Precipitation Index Function\n",
        "def spi(ds, thresh):\n",
        "    #ds - data ; thresh - time interval / scale\n",
        "    \n",
        "    #Rolling Mean / Moving Averages\n",
        "    ds_ma = ds.rolling(thresh, center=False).mean()\n",
        "    \n",
        "    #Natural log of moving averages\n",
        "    ds_In = np.log(ds_ma)\n",
        "    ds_In[ np.isinf(ds_In) == True] = np.nan  #Change infinity to NaN\n",
        "    \n",
        "    #Overall Mean of Moving Averages\n",
        "    ds_mu = np.nanmean(ds_ma)\n",
        "    \n",
        "    #Summation of Natural log of moving averages\n",
        "    ds_sum = np.nansum(ds_In)\n",
        "        \n",
        "    #Computing essentials for gamma distribution\n",
        "    n = len(ds_In[thresh-1:])                  #size of data\n",
        "    A = np.log(ds_mu) - (ds_sum/n)             #Computing A\n",
        "    alpha = (1/(4*A))*(1+(1+((4*A)/3))**0.5)   #Computing alpha  (a)\n",
        "    beta = ds_mu/alpha                         #Computing beta (scale)\n",
        "    \n",
        "    #Gamma Distribution (CDF)\n",
        "    gamma = st.gamma.cdf(ds_ma, a=alpha, scale=beta)  \n",
        "    \n",
        "    #Standardized Precipitation Index   (Inverse of CDF)\n",
        "    norm_spi = st.norm.ppf(gamma, loc=0, scale=1)  #loc is mean and scale is standard dev.\n",
        "    \n",
        "    return ds_ma, ds_In, ds_mu, ds_sum, n, A, alpha, beta, gamma, norm_spi"
      ],
      "metadata": {
        "id": "-n3fzgz1F_nK"
      },
      "execution_count": null,
      "outputs": []
    },
    {
      "cell_type": "markdown",
      "source": [
        "Perform SPI computation on Data at Varying Times"
      ],
      "metadata": {
        "id": "cIlcIlZCGGiU"
      }
    },
    {
      "cell_type": "code",
      "source": [
        "times = [3, 6, 9, 12, 24]\n",
        "for i in times:\n",
        "    x = spi(data['precipitation'], i)\n",
        "    data['spi_'+str(i)] = x[9]"
      ],
      "metadata": {
        "id": "JyKvbhfZGJfX"
      },
      "execution_count": null,
      "outputs": []
    },
    {
      "cell_type": "markdown",
      "source": [
        "Visualization of SPI"
      ],
      "metadata": {
        "id": "CZaS4iRkGMqT"
      }
    },
    {
      "cell_type": "code",
      "source": [
        "fig, axes = plt.subplots(nrows=5, figsize=(15, 10))\n",
        "plt.subplots_adjust(hspace=0.15)\n",
        "for i, ax in enumerate(axes):\n",
        "    col_scheme=np.where(data['spi_'+str(times[i])]>0, 'b','r')\n",
        "\n",
        "    ax.xaxis.set_major_formatter(mdates.DateFormatter('%Y'))\n",
        "    ax.bar(data.index, data['spi_'+str(times[i])], width=25, align='center', color=col_scheme, label='SPI '+str(times[i]))\n",
        "    ax.axhline(y=0, color='k')\n",
        "    ax.xaxis.set_major_locator(mdates.YearLocator(2))\n",
        "    ax.legend(loc='upper right')\n",
        "    ax.set_yticks(range(-3,4), range(-3,4))\n",
        "    ax.set_ylabel('SPI', fontsize=12)\n",
        "    \n",
        "    if i<len(times)-1:\n",
        "        ax.set_xticks([],[])"
      ],
      "metadata": {
        "id": "mnuX2mIMGPZf"
      },
      "execution_count": null,
      "outputs": []
    }
  ]
}